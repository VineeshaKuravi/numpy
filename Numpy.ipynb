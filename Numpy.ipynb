{
  "nbformat": 4,
  "nbformat_minor": 0,
  "metadata": {
    "colab": {
      "provenance": [],
      "authorship_tag": "ABX9TyO1XvoDe+0fdhjceHKTXFeE",
      "include_colab_link": true
    },
    "kernelspec": {
      "name": "python3",
      "display_name": "Python 3"
    },
    "language_info": {
      "name": "python"
    }
  },
  "cells": [
    {
      "cell_type": "markdown",
      "metadata": {
        "id": "view-in-github",
        "colab_type": "text"
      },
      "source": [
        "<a href=\"https://colab.research.google.com/github/VineeshaKuravi/numpy/blob/main/Numpy.ipynb\" target=\"_parent\"><img src=\"https://colab.research.google.com/assets/colab-badge.svg\" alt=\"Open In Colab\"/></a>"
      ]
    },
    {
      "cell_type": "code",
      "execution_count": null,
      "metadata": {
        "id": "fQpYxiFdmOc9"
      },
      "outputs": [],
      "source": [
        "import numpy as np\n"
      ]
    },
    {
      "cell_type": "code",
      "source": [
        "from time import process_time"
      ],
      "metadata": {
        "id": "ts_yN5mknny3"
      },
      "execution_count": null,
      "outputs": []
    },
    {
      "cell_type": "code",
      "source": [
        "python=[i for i in range(100000)]\n",
        "start=process_time()\n",
        "res=[i+5 for i in python]\n",
        "end=process_time()\n",
        "print(end-start)"
      ],
      "metadata": {
        "colab": {
          "base_uri": "https://localhost:8080/"
        },
        "id": "_93Hes4EnsDc",
        "outputId": "b10bbab2-9ac7-4448-c59f-d334c65f102d"
      },
      "execution_count": null,
      "outputs": [
        {
          "output_type": "stream",
          "name": "stdout",
          "text": [
            "0.012586401999999275\n"
          ]
        }
      ]
    },
    {
      "cell_type": "code",
      "source": [
        "np_array=np.array([i for i in range(100000)])\n",
        "start=process_time()\n",
        "np_array+=5\n",
        "end=process_time()\n",
        "print(end-start)"
      ],
      "metadata": {
        "colab": {
          "base_uri": "https://localhost:8080/"
        },
        "id": "CxmAdf5toZFK",
        "outputId": "892707f0-80ac-404a-f8e8-2a138b47eab1"
      },
      "execution_count": null,
      "outputs": [
        {
          "output_type": "stream",
          "name": "stdout",
          "text": [
            "0.0011862220000011803\n"
          ]
        }
      ]
    },
    {
      "cell_type": "code",
      "source": [
        "np_array=np.array([])\n",
        "type(np_array)"
      ],
      "metadata": {
        "colab": {
          "base_uri": "https://localhost:8080/"
        },
        "id": "ovpU92u5rV4W",
        "outputId": "bf388792-93a9-426a-d595-ddaa500b8013"
      },
      "execution_count": null,
      "outputs": [
        {
          "output_type": "execute_result",
          "data": {
            "text/plain": [
              "numpy.ndarray"
            ]
          },
          "metadata": {},
          "execution_count": 11
        }
      ]
    },
    {
      "cell_type": "code",
      "source": [
        "np_array=np.array([(1,2,3,4),(5,6,7,8)])\n",
        "print(np_array)\n",
        "np_array.shape"
      ],
      "metadata": {
        "colab": {
          "base_uri": "https://localhost:8080/"
        },
        "id": "zJTjy4BVslQK",
        "outputId": "12506457-12cc-4760-89f3-fe2b84388bcc"
      },
      "execution_count": null,
      "outputs": [
        {
          "output_type": "stream",
          "name": "stdout",
          "text": [
            "[[1 2 3 4]\n",
            " [5 6 7 8]]\n"
          ]
        },
        {
          "output_type": "execute_result",
          "data": {
            "text/plain": [
              "(2, 4)"
            ]
          },
          "metadata": {},
          "execution_count": 14
        }
      ]
    },
    {
      "cell_type": "code",
      "source": [
        "np_array=np.array([(1,2,3,4),(5,6,7,8)],dtype=float)\n",
        "print(np_array)\n",
        "np_array.shape"
      ],
      "metadata": {
        "colab": {
          "base_uri": "https://localhost:8080/"
        },
        "id": "rPHUkGZYtXVY",
        "outputId": "76cb8535-9d27-481a-ac58-e1998b0de98c"
      },
      "execution_count": null,
      "outputs": [
        {
          "output_type": "stream",
          "name": "stdout",
          "text": [
            "[[1. 2. 3. 4.]\n",
            " [5. 6. 7. 8.]]\n"
          ]
        },
        {
          "output_type": "execute_result",
          "data": {
            "text/plain": [
              "(2, 4)"
            ]
          },
          "metadata": {},
          "execution_count": 16
        }
      ]
    },
    {
      "cell_type": "markdown",
      "source": [],
      "metadata": {
        "id": "NmALTh4RtpV1"
      }
    },
    {
      "cell_type": "code",
      "source": [
        "np_array=np.array([(1,2,3,4)])\n",
        "np_array.shape"
      ],
      "metadata": {
        "colab": {
          "base_uri": "https://localhost:8080/"
        },
        "id": "8rZKcW2Ps6_g",
        "outputId": "6952d1fa-2ed4-44c4-b5f9-7b98dec127c2"
      },
      "execution_count": null,
      "outputs": [
        {
          "output_type": "execute_result",
          "data": {
            "text/plain": [
              "(1, 4)"
            ]
          },
          "metadata": {},
          "execution_count": 15
        }
      ]
    },
    {
      "cell_type": "markdown",
      "source": [
        "Initial placeholders  in numpy arrays\n"
      ],
      "metadata": {
        "id": "rcpXnqhytsJw"
      }
    },
    {
      "cell_type": "code",
      "source": [
        "x=np.zeros((4,5))\n",
        "print(x)"
      ],
      "metadata": {
        "colab": {
          "base_uri": "https://localhost:8080/"
        },
        "id": "HRuqbP31txez",
        "outputId": "90ebc6c8-724e-4a66-a550-ddd99560a9e6"
      },
      "execution_count": null,
      "outputs": [
        {
          "output_type": "stream",
          "name": "stdout",
          "text": [
            "[[0 0 0 0 0]\n",
            " [0 0 0 0 0]\n",
            " [0 0 0 0 0]\n",
            " [0 0 0 0 0]]\n"
          ]
        }
      ]
    },
    {
      "cell_type": "code",
      "source": [
        "y=np.ones((5,5),dtype=int)\n",
        "print(y)"
      ],
      "metadata": {
        "colab": {
          "base_uri": "https://localhost:8080/"
        },
        "id": "PhE720JVuXJG",
        "outputId": "c4670573-1a2c-4d44-f567-266f0566fe62"
      },
      "execution_count": null,
      "outputs": [
        {
          "output_type": "stream",
          "name": "stdout",
          "text": [
            "[[1 1 1 1 1]\n",
            " [1 1 1 1 1]\n",
            " [1 1 1 1 1]\n",
            " [1 1 1 1 1]\n",
            " [1 1 1 1 1]]\n"
          ]
        }
      ]
    },
    {
      "cell_type": "code",
      "source": [
        "z=np.full((5,5),5)\n",
        "print(z)"
      ],
      "metadata": {
        "colab": {
          "base_uri": "https://localhost:8080/"
        },
        "id": "droTWN7eupzW",
        "outputId": "d0d893da-c9db-42ce-bacb-c5a8d460b8e8"
      },
      "execution_count": null,
      "outputs": [
        {
          "output_type": "stream",
          "name": "stdout",
          "text": [
            "[[5 5 5 5 5]\n",
            " [5 5 5 5 5]\n",
            " [5 5 5 5 5]\n",
            " [5 5 5 5 5]\n",
            " [5 5 5 5 5]]\n"
          ]
        }
      ]
    },
    {
      "cell_type": "markdown",
      "source": [
        "Identity Matrix\n"
      ],
      "metadata": {
        "id": "5gJRCx9XvWDo"
      }
    },
    {
      "cell_type": "code",
      "source": [
        "a=np.eye(4)\n",
        "print(a)"
      ],
      "metadata": {
        "colab": {
          "base_uri": "https://localhost:8080/"
        },
        "id": "Rh4-CPSxvY4f",
        "outputId": "466417e5-9dd2-462d-c1e7-e3d01c625e9f"
      },
      "execution_count": null,
      "outputs": [
        {
          "output_type": "stream",
          "name": "stdout",
          "text": [
            "[[1. 0. 0. 0.]\n",
            " [0. 1. 0. 0.]\n",
            " [0. 0. 1. 0.]\n",
            " [0. 0. 0. 1.]]\n"
          ]
        }
      ]
    },
    {
      "cell_type": "markdown",
      "source": [
        "Random values\n"
      ],
      "metadata": {
        "id": "4BC_6XGrwEPH"
      }
    },
    {
      "cell_type": "code",
      "source": [
        "a=np.random.random((4,5))\n",
        "print(a)"
      ],
      "metadata": {
        "colab": {
          "base_uri": "https://localhost:8080/"
        },
        "id": "3i-uAzHQv6Dt",
        "outputId": "8021c905-2385-4f77-9d73-55fe7131eefe"
      },
      "execution_count": null,
      "outputs": [
        {
          "output_type": "stream",
          "name": "stdout",
          "text": [
            "[[0.60463821 0.51321902 0.16749767 0.5075498  0.0472013 ]\n",
            " [0.51729611 0.36438402 0.64231876 0.58252215 0.3682263 ]\n",
            " [0.14992221 0.57116873 0.77482798 0.20675223 0.03394049]\n",
            " [0.07795018 0.72713376 0.71230376 0.77954159 0.2167775 ]]\n"
          ]
        }
      ]
    },
    {
      "cell_type": "markdown",
      "source": [
        "Random integer values within range"
      ],
      "metadata": {
        "id": "KhH-mouy1S9p"
      }
    },
    {
      "cell_type": "code",
      "source": [
        "a=np.random.randint(10,100,(2,3))\n",
        "print(a)"
      ],
      "metadata": {
        "colab": {
          "base_uri": "https://localhost:8080/"
        },
        "id": "fZRKg1ypwILi",
        "outputId": "270d2d8f-7bb9-4a9c-d094-4b1ca71088bd"
      },
      "execution_count": null,
      "outputs": [
        {
          "output_type": "stream",
          "name": "stdout",
          "text": [
            "[[11 41 80]\n",
            " [77 63 38]]\n"
          ]
        }
      ]
    },
    {
      "cell_type": "markdown",
      "source": [
        "Evenly spaced values and no. of values"
      ],
      "metadata": {
        "id": "O-u4DDMe44iA"
      }
    },
    {
      "cell_type": "code",
      "source": [
        "a=np.linspace(10,20,5,dtype=int)\n",
        "print(a)"
      ],
      "metadata": {
        "colab": {
          "base_uri": "https://localhost:8080/"
        },
        "id": "xwAW-5-D4654",
        "outputId": "adb35a58-6257-4762-b850-05e5c96eb13b"
      },
      "execution_count": null,
      "outputs": [
        {
          "output_type": "stream",
          "name": "stdout",
          "text": [
            "[10 12 15 17 20]\n"
          ]
        }
      ]
    },
    {
      "cell_type": "markdown",
      "source": [
        "Evenly spaced values and step"
      ],
      "metadata": {
        "id": "lbpSqdt95YT0"
      }
    },
    {
      "cell_type": "code",
      "source": [
        "a=np.arange(10,20,5)\n",
        "print(a)"
      ],
      "metadata": {
        "colab": {
          "base_uri": "https://localhost:8080/"
        },
        "id": "wE2g75-25YBO",
        "outputId": "65b9c063-e500-45e0-8a10-f5655f9d61e2"
      },
      "execution_count": null,
      "outputs": [
        {
          "output_type": "stream",
          "name": "stdout",
          "text": [
            "[10 15]\n"
          ]
        }
      ]
    },
    {
      "cell_type": "markdown",
      "source": [
        "Convert list to array( we use np.asarray to convert any datatype to nump array)"
      ],
      "metadata": {
        "id": "02JqTUaz6IaI"
      }
    },
    {
      "cell_type": "code",
      "source": [
        "a=[1,2,3,4]\n",
        "np_array=np.asarray(a)\n",
        "print(np_array)\n",
        "type(np_array)"
      ],
      "metadata": {
        "colab": {
          "base_uri": "https://localhost:8080/"
        },
        "id": "b7SMRrIV6ON0",
        "outputId": "a8d1b2af-50ef-4284-9446-61c8c7f047a9"
      },
      "execution_count": null,
      "outputs": [
        {
          "output_type": "stream",
          "name": "stdout",
          "text": [
            "[1 2 3 4]\n"
          ]
        },
        {
          "output_type": "execute_result",
          "data": {
            "text/plain": [
              "numpy.ndarray"
            ]
          },
          "metadata": {},
          "execution_count": 37
        }
      ]
    },
    {
      "cell_type": "markdown",
      "source": [
        "Analysing numpy array\n"
      ],
      "metadata": {
        "id": "jgS1jxd16xeE"
      }
    },
    {
      "cell_type": "code",
      "source": [
        "a=np.array([(1,2,3),[1,2,3]])\n",
        "print(a)"
      ],
      "metadata": {
        "colab": {
          "base_uri": "https://localhost:8080/"
        },
        "id": "fiQU4fe96zjJ",
        "outputId": "d6523765-b635-43b9-f720-881e9b4848be"
      },
      "execution_count": null,
      "outputs": [
        {
          "output_type": "stream",
          "name": "stdout",
          "text": [
            "[[1 2 3]\n",
            " [1 2 3]]\n"
          ]
        }
      ]
    },
    {
      "cell_type": "code",
      "source": [
        "print(a.shape)"
      ],
      "metadata": {
        "colab": {
          "base_uri": "https://localhost:8080/"
        },
        "id": "D7tWmJL-6_AV",
        "outputId": "7202c0ad-e0d8-4495-9f07-66cfe3b95516"
      },
      "execution_count": null,
      "outputs": [
        {
          "output_type": "stream",
          "name": "stdout",
          "text": [
            "(2, 3)\n"
          ]
        }
      ]
    },
    {
      "cell_type": "code",
      "source": [
        "print(a.ndim)"
      ],
      "metadata": {
        "colab": {
          "base_uri": "https://localhost:8080/"
        },
        "id": "OBKFm0pr7B6Y",
        "outputId": "16c6614e-21ee-4a8c-e12c-d17dca70e4e4"
      },
      "execution_count": null,
      "outputs": [
        {
          "output_type": "stream",
          "name": "stdout",
          "text": [
            "2\n"
          ]
        }
      ]
    },
    {
      "cell_type": "code",
      "source": [
        "print(a.size)"
      ],
      "metadata": {
        "colab": {
          "base_uri": "https://localhost:8080/"
        },
        "id": "VTMv39Oi7Pkx",
        "outputId": "c8e54627-24a9-49a1-dd3b-b15c97853e57"
      },
      "execution_count": null,
      "outputs": [
        {
          "output_type": "stream",
          "name": "stdout",
          "text": [
            "6\n"
          ]
        }
      ]
    },
    {
      "cell_type": "code",
      "source": [
        "print(a.dtype)"
      ],
      "metadata": {
        "colab": {
          "base_uri": "https://localhost:8080/"
        },
        "id": "uDUOiDXD7ZQk",
        "outputId": "fe3db980-e640-4f77-f678-fb7630006455"
      },
      "execution_count": null,
      "outputs": [
        {
          "output_type": "stream",
          "name": "stdout",
          "text": [
            "int64\n"
          ]
        }
      ]
    },
    {
      "cell_type": "code",
      "source": [
        "Mathematical Calculations on np array"
      ],
      "metadata": {
        "id": "S_-LO5c57kBf"
      },
      "execution_count": null,
      "outputs": []
    },
    {
      "cell_type": "code",
      "source": [
        "a=np.random.randint(0,10,(3,3))\n",
        "b=np.random.randint(10,20,(3,3))\n",
        "print(a)\n",
        "print(b)\n",
        "print(a+b)\n",
        "print(a-b)\n",
        "print(a*b)\n",
        "print(a/b)"
      ],
      "metadata": {
        "colab": {
          "base_uri": "https://localhost:8080/"
        },
        "id": "cINhqI078Hmh",
        "outputId": "728d69a5-f458-4fa6-c6c9-751157494484"
      },
      "execution_count": null,
      "outputs": [
        {
          "output_type": "stream",
          "name": "stdout",
          "text": [
            "[[0 1 1]\n",
            " [7 5 7]\n",
            " [1 9 4]]\n",
            "[[10 19 12]\n",
            " [19 18 14]\n",
            " [14 15 13]]\n",
            "[[10 20 13]\n",
            " [26 23 21]\n",
            " [15 24 17]]\n",
            "[[-10 -18 -11]\n",
            " [-12 -13  -7]\n",
            " [-13  -6  -9]]\n",
            "[[  0  19  12]\n",
            " [133  90  98]\n",
            " [ 14 135  52]]\n",
            "[[0.         0.05263158 0.08333333]\n",
            " [0.36842105 0.27777778 0.5       ]\n",
            " [0.07142857 0.6        0.30769231]]\n"
          ]
        }
      ]
    },
    {
      "cell_type": "code",
      "source": [
        "a=np.random.randint(0,10,(3,3))\n",
        "b=np.random.randint(10,20,(3,3))\n",
        "print(a)\n",
        "print(b)"
      ],
      "metadata": {
        "colab": {
          "base_uri": "https://localhost:8080/"
        },
        "id": "soSYC2es84bG",
        "outputId": "6cbc3b8f-72bb-48f7-d71b-0fb8e894d6dd"
      },
      "execution_count": null,
      "outputs": [
        {
          "output_type": "stream",
          "name": "stdout",
          "text": [
            "[[3 6 4]\n",
            " [9 8 8]\n",
            " [1 5 3]]\n",
            "[[15 13 15]\n",
            " [11 11 18]\n",
            " [12 13 13]]\n"
          ]
        }
      ]
    },
    {
      "cell_type": "code",
      "source": [
        "print(np.add(a,b))\n",
        "print(np.subtract(a,b))\n",
        "print(np.multiply(a,b))\n",
        "print(np.divide(a,b))"
      ],
      "metadata": {
        "colab": {
          "base_uri": "https://localhost:8080/"
        },
        "id": "NwaisZN788nB",
        "outputId": "11b43b14-5584-4630-fd4e-fa6002a22351"
      },
      "execution_count": null,
      "outputs": [
        {
          "output_type": "stream",
          "name": "stdout",
          "text": [
            "[[18 19 19]\n",
            " [20 19 26]\n",
            " [13 18 16]]\n",
            "[[-12  -7 -11]\n",
            " [ -2  -3 -10]\n",
            " [-11  -8 -10]]\n",
            "[[ 45  78  60]\n",
            " [ 99  88 144]\n",
            " [ 12  65  39]]\n",
            "[[0.2        0.46153846 0.26666667]\n",
            " [0.81818182 0.72727273 0.44444444]\n",
            " [0.08333333 0.38461538 0.23076923]]\n"
          ]
        }
      ]
    },
    {
      "cell_type": "markdown",
      "source": [
        "Manipulations on Array"
      ],
      "metadata": {
        "id": "M8ZKc7AG9eVW"
      }
    },
    {
      "cell_type": "code",
      "source": [
        "a=np.random.randint(10,20,(3,4))\n",
        "print(a)\n",
        "print(a.shape)"
      ],
      "metadata": {
        "colab": {
          "base_uri": "https://localhost:8080/"
        },
        "id": "55emzmrp9gGF",
        "outputId": "4630a76c-8afd-45a1-ebcc-7a1710c7738e"
      },
      "execution_count": null,
      "outputs": [
        {
          "output_type": "stream",
          "name": "stdout",
          "text": [
            "[[16 14 16 15]\n",
            " [15 16 13 15]\n",
            " [19 19 19 12]]\n",
            "(3, 4)\n"
          ]
        }
      ]
    },
    {
      "cell_type": "code",
      "source": [
        "t=np.transpose(a)\n",
        "print(t)\n",
        "print(t.shape)"
      ],
      "metadata": {
        "colab": {
          "base_uri": "https://localhost:8080/"
        },
        "id": "1AiGfIVO9eFs",
        "outputId": "f98348e9-8293-4e96-e44f-7c448beada3c"
      },
      "execution_count": null,
      "outputs": [
        {
          "output_type": "stream",
          "name": "stdout",
          "text": [
            "[[16 15 19]\n",
            " [14 16 19]\n",
            " [16 13 19]\n",
            " [15 15 12]]\n",
            "(4, 3)\n"
          ]
        }
      ]
    },
    {
      "cell_type": "code",
      "source": [
        "a=np.random.randint(10,20,(3,4))\n",
        "print(a)\n",
        "print(a.shape)"
      ],
      "metadata": {
        "colab": {
          "base_uri": "https://localhost:8080/"
        },
        "id": "EdN20VRD96WU",
        "outputId": "0dc6fb25-8daf-4766-975b-2bf8d306345e"
      },
      "execution_count": null,
      "outputs": [
        {
          "output_type": "stream",
          "name": "stdout",
          "text": [
            "[[10 13 17 19]\n",
            " [14 17 15 18]\n",
            " [12 19 18 19]]\n",
            "(3, 4)\n"
          ]
        }
      ]
    },
    {
      "cell_type": "code",
      "source": [
        "t2=a.T\n",
        "print(t2)\n",
        "print(t2.shape)"
      ],
      "metadata": {
        "colab": {
          "base_uri": "https://localhost:8080/"
        },
        "id": "ASJc7TeW98GR",
        "outputId": "b3595b88-af01-4546-d911-58d0c7148a7f"
      },
      "execution_count": null,
      "outputs": [
        {
          "output_type": "stream",
          "name": "stdout",
          "text": [
            "[[10 14 12]\n",
            " [13 17 19]\n",
            " [17 15 18]\n",
            " [19 18 19]]\n",
            "(4, 3)\n"
          ]
        }
      ]
    },
    {
      "cell_type": "markdown",
      "source": [
        "Reshaping an array\n"
      ],
      "metadata": {
        "id": "-b76rJFW-IEG"
      }
    },
    {
      "cell_type": "code",
      "source": [
        "a=np.random.randint(10,20,(3,4))\n",
        "print(a)\n",
        "print(a.shape)"
      ],
      "metadata": {
        "colab": {
          "base_uri": "https://localhost:8080/"
        },
        "id": "47N7B_tK-Jgx",
        "outputId": "e3ab6d9d-bcd3-470d-8056-b490bddd4e50"
      },
      "execution_count": null,
      "outputs": [
        {
          "output_type": "stream",
          "name": "stdout",
          "text": [
            "[[15 15 10 18]\n",
            " [10 12 12 14]\n",
            " [19 10 14 18]]\n",
            "(3, 4)\n"
          ]
        }
      ]
    },
    {
      "cell_type": "code",
      "source": [
        "b=a.reshape(4,3)\n",
        "print(b)\n",
        "print(b.shape)"
      ],
      "metadata": {
        "colab": {
          "base_uri": "https://localhost:8080/"
        },
        "id": "73RlH6MO-eFL",
        "outputId": "67381476-df5c-4e1d-9feb-712c9deb0f8e"
      },
      "execution_count": null,
      "outputs": [
        {
          "output_type": "stream",
          "name": "stdout",
          "text": [
            "[[15 15 10]\n",
            " [18 10 12]\n",
            " [12 14 19]\n",
            " [10 14 18]]\n",
            "(4, 3)\n"
          ]
        }
      ]
    }
  ]
}